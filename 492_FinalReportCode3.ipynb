{
 "cells": [
  {
   "cell_type": "code",
   "execution_count": 1,
   "id": "f48f5955",
   "metadata": {},
   "outputs": [
    {
     "name": "stdout",
     "output_type": "stream",
     "text": [
      "WARNING:tensorflow:\n",
      "The TensorFlow contrib module will not be included in TensorFlow 2.0.\n",
      "For more information, please see:\n",
      "  * https://github.com/tensorflow/community/blob/master/rfcs/20180907-contrib-sunset.md\n",
      "  * https://github.com/tensorflow/addons\n",
      "  * https://github.com/tensorflow/io (for I/O related ops)\n",
      "If you depend on functionality not listed there, please file an issue.\n",
      "\n"
     ]
    },
    {
     "name": "stderr",
     "output_type": "stream",
     "text": [
      "/opt/anaconda3/envs/tf15/lib/python3.7/site-packages/stable_baselines/__init__.py:33: UserWarning: stable-baselines is in maintenance mode, please use [Stable-Baselines3 (SB3)](https://github.com/DLR-RM/stable-baselines3) for an up-to-date version. You can find a [migration guide](https://stable-baselines3.readthedocs.io/en/master/guide/migration.html) in SB3 documentation.\n",
      "  \"stable-baselines is in maintenance mode, please use [Stable-Baselines3 (SB3)](https://github.com/DLR-RM/stable-baselines3) for an up-to-date version. You can find a [migration guide](https://stable-baselines3.readthedocs.io/en/master/guide/migration.html) in SB3 documentation.\"\n"
     ]
    }
   ],
   "source": [
    "import numpy as np\n",
    "import pandas as pd\n",
    "\n",
    "import gym\n",
    "import gym_anytrading\n",
    "import quantstats as qs\n",
    "\n",
    "from stable_baselines import A2C\n",
    "from stable_baselines.common.vec_env import DummyVecEnv\n",
    "\n",
    "import matplotlib.pyplot as plt"
   ]
  },
  {
   "cell_type": "code",
   "execution_count": 2,
   "id": "8a250029",
   "metadata": {
    "scrolled": true
   },
   "outputs": [
    {
     "name": "stdout",
     "output_type": "stream",
     "text": [
      "<class 'pandas.core.frame.DataFrame'>\n",
      "RangeIndex: 703 entries, 0 to 702\n",
      "Data columns (total 7 columns):\n",
      " #   Column    Non-Null Count  Dtype \n",
      "---  ------    --------------  ----- \n",
      " 0   Date      703 non-null    object\n",
      " 1   Price     703 non-null    object\n",
      " 2   Open      703 non-null    object\n",
      " 3   High      703 non-null    object\n",
      " 4   Low       703 non-null    object\n",
      " 5   Vol.      703 non-null    object\n",
      " 6   Change %  703 non-null    object\n",
      "dtypes: object(7)\n",
      "memory usage: 38.6+ KB\n"
     ]
    }
   ],
   "source": [
    "df = pd.read_csv('Bitcoin Historical Data - Investing.com.csv')\n",
    "df.info()"
   ]
  },
  {
   "cell_type": "code",
   "execution_count": 3,
   "id": "581e1fac",
   "metadata": {},
   "outputs": [
    {
     "data": {
      "text/html": [
       "<div>\n",
       "<style scoped>\n",
       "    .dataframe tbody tr th:only-of-type {\n",
       "        vertical-align: middle;\n",
       "    }\n",
       "\n",
       "    .dataframe tbody tr th {\n",
       "        vertical-align: top;\n",
       "    }\n",
       "\n",
       "    .dataframe thead th {\n",
       "        text-align: right;\n",
       "    }\n",
       "</style>\n",
       "<table border=\"1\" class=\"dataframe\">\n",
       "  <thead>\n",
       "    <tr style=\"text-align: right;\">\n",
       "      <th></th>\n",
       "      <th>Close</th>\n",
       "      <th>Open</th>\n",
       "      <th>High</th>\n",
       "      <th>Low</th>\n",
       "    </tr>\n",
       "    <tr>\n",
       "      <th>Date</th>\n",
       "      <th></th>\n",
       "      <th></th>\n",
       "      <th></th>\n",
       "      <th></th>\n",
       "    </tr>\n",
       "  </thead>\n",
       "  <tbody>\n",
       "    <tr>\n",
       "      <th>2020-03-01</th>\n",
       "      <td>8540.0</td>\n",
       "      <td>8543.8</td>\n",
       "      <td>8737.2</td>\n",
       "      <td>8437.2</td>\n",
       "    </tr>\n",
       "    <tr>\n",
       "      <th>2020-03-02</th>\n",
       "      <td>8904.8</td>\n",
       "      <td>8537.5</td>\n",
       "      <td>8961.8</td>\n",
       "      <td>8503.1</td>\n",
       "    </tr>\n",
       "    <tr>\n",
       "      <th>2020-03-03</th>\n",
       "      <td>8761.4</td>\n",
       "      <td>8906.1</td>\n",
       "      <td>8911.7</td>\n",
       "      <td>8669.3</td>\n",
       "    </tr>\n",
       "    <tr>\n",
       "      <th>2020-03-04</th>\n",
       "      <td>8757.9</td>\n",
       "      <td>8761.3</td>\n",
       "      <td>8840.3</td>\n",
       "      <td>8679.7</td>\n",
       "    </tr>\n",
       "    <tr>\n",
       "      <th>2020-03-05</th>\n",
       "      <td>9060.3</td>\n",
       "      <td>8757.9</td>\n",
       "      <td>9147.3</td>\n",
       "      <td>8751.5</td>\n",
       "    </tr>\n",
       "    <tr>\n",
       "      <th>...</th>\n",
       "      <td>...</td>\n",
       "      <td>...</td>\n",
       "      <td>...</td>\n",
       "      <td>...</td>\n",
       "    </tr>\n",
       "    <tr>\n",
       "      <th>2022-01-28</th>\n",
       "      <td>37745.1</td>\n",
       "      <td>37195.6</td>\n",
       "      <td>37995.9</td>\n",
       "      <td>36176.5</td>\n",
       "    </tr>\n",
       "    <tr>\n",
       "      <th>2022-01-29</th>\n",
       "      <td>38170.8</td>\n",
       "      <td>37736.5</td>\n",
       "      <td>38663.7</td>\n",
       "      <td>37350.2</td>\n",
       "    </tr>\n",
       "    <tr>\n",
       "      <th>2022-01-30</th>\n",
       "      <td>37917.7</td>\n",
       "      <td>38167.5</td>\n",
       "      <td>38313.3</td>\n",
       "      <td>37390.6</td>\n",
       "    </tr>\n",
       "    <tr>\n",
       "      <th>2022-01-31</th>\n",
       "      <td>38498.6</td>\n",
       "      <td>37923.8</td>\n",
       "      <td>38701.4</td>\n",
       "      <td>36672.8</td>\n",
       "    </tr>\n",
       "    <tr>\n",
       "      <th>2022-02-01</th>\n",
       "      <td>38709.7</td>\n",
       "      <td>38475.6</td>\n",
       "      <td>39230.0</td>\n",
       "      <td>38037.9</td>\n",
       "    </tr>\n",
       "  </tbody>\n",
       "</table>\n",
       "<p>703 rows × 4 columns</p>\n",
       "</div>"
      ],
      "text/plain": [
       "              Close     Open     High      Low\n",
       "Date                                          \n",
       "2020-03-01   8540.0   8543.8   8737.2   8437.2\n",
       "2020-03-02   8904.8   8537.5   8961.8   8503.1\n",
       "2020-03-03   8761.4   8906.1   8911.7   8669.3\n",
       "2020-03-04   8757.9   8761.3   8840.3   8679.7\n",
       "2020-03-05   9060.3   8757.9   9147.3   8751.5\n",
       "...             ...      ...      ...      ...\n",
       "2022-01-28  37745.1  37195.6  37995.9  36176.5\n",
       "2022-01-29  38170.8  37736.5  38663.7  37350.2\n",
       "2022-01-30  37917.7  38167.5  38313.3  37390.6\n",
       "2022-01-31  38498.6  37923.8  38701.4  36672.8\n",
       "2022-02-01  38709.7  38475.6  39230.0  38037.9\n",
       "\n",
       "[703 rows x 4 columns]"
      ]
     },
     "execution_count": 3,
     "metadata": {},
     "output_type": "execute_result"
    }
   ],
   "source": [
    "df.Price.replace(',','',regex = True, inplace = True)\n",
    "df.Open.replace(',','',regex = True, inplace = True)\n",
    "df.High.replace(',','',regex = True, inplace = True)\n",
    "df.Low.replace(',','',regex = True, inplace = True)\n",
    "df['Vol.'].replace(to_replace='K', value='', regex=True, inplace = True)\n",
    "df['Vol.'].replace(to_replace='M', value='', regex=True, inplace = True)\n",
    "df['Change %'].replace(to_replace='%', value='', regex=True, inplace = True)\n",
    "df.iloc[:, 1:] = df.iloc[:, 1:].astype(float, copy = False)\n",
    "df.Date = pd.to_datetime(df.Date, format = '%b %d, %Y')\n",
    "df = df.drop(columns=['Change %', 'Vol.'])\n",
    "df = df.rename(columns = {'Price' : 'Close'})\n",
    "df.set_index('Date', inplace = True)\n",
    "df.sort_index(inplace = True)\n",
    "#df = df.sort_values('Date', ignore_index = True)\n",
    "\n",
    "df\n",
    "\n",
    "\n"
   ]
  },
  {
   "cell_type": "markdown",
   "id": "39e8c6a9",
   "metadata": {},
   "source": [
    "## Random Steps"
   ]
  },
  {
   "cell_type": "code",
   "execution_count": 5,
   "id": "0ae28be8",
   "metadata": {},
   "outputs": [
    {
     "name": "stdout",
     "output_type": "stream",
     "text": [
      "info {'total_reward': 8111.299999999988, 'total_profit': 0.5176324517828806, 'position': 1}\n"
     ]
    },
    {
     "data": {
      "image/png": "[encoded data removed]",
      "text/plain": [
       "<Figure size 1080x432 with 1 Axes>"
      ]
     },
     "metadata": {
      "needs_background": "light"
     },
     "output_type": "display_data"
    }
   ],
   "source": [
    "#running the test environment\n",
    "window_size = 20\n",
    "start_index = window_size + 480\n",
    "end_index = len(df)\n",
    "\n",
    "\n",
    "env = gym.make('stocks-v0', df=df, frame_bound=(start_index,end_index), window_size=window_size)\n",
    "state = env.reset()\n",
    "while True: \n",
    "    action = env.action_space.sample()\n",
    "    n_state, reward, done, info = env.step(action)\n",
    "    if done: \n",
    "        print(\"info\", info)\n",
    "        break\n",
    "        \n",
    "plt.figure(figsize=(15,6))\n",
    "plt.cla()\n",
    "env.render_all()\n",
    "plt.show()"
   ]
  },
  {
   "cell_type": "code",
   "execution_count": null,
   "id": "252d5dad",
   "metadata": {},
   "outputs": [],
   "source": []
  }
 ],
 "metadata": {
  "kernelspec": {
   "display_name": "tf15",
   "language": "python",
   "name": "tf15"
  },
  "language_info": {
   "codemirror_mode": {
    "name": "ipython",
    "version": 3
   },
   "file_extension": ".py",
   "mimetype": "text/x-python",
   "name": "python",
   "nbconvert_exporter": "python",
   "pygments_lexer": "ipython3",
   "version": "3.7.13"
  }
 },
 "nbformat": 4,
 "nbformat_minor": 5
}
